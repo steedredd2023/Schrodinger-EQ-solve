{
 "cells": [
  {
   "cell_type": "code",
   "execution_count": 15,
   "metadata": {},
   "outputs": [],
   "source": [
    "%matplotlib inline\n",
    "import numpy as np\n",
    "import matplotlib.pyplot as plt\n",
    "import math\n",
    "import scipy.integrate as si"
   ]
  },
  {
   "cell_type": "code",
   "execution_count": 24,
   "metadata": {},
   "outputs": [
    {
     "data": {
      "text/plain": [
       "[<matplotlib.lines.Line2D at 0x24235cc7a88>]"
      ]
     },
     "execution_count": 24,
     "metadata": {},
     "output_type": "execute_result"
    },
    {
     "data": {
      "image/png": "[encoded data removed]",
      "text/plain": [
       "<Figure size 432x288 with 1 Axes>"
      ]
     },
     "metadata": {
      "needs_background": "light"
     },
     "output_type": "display_data"
    }
   ],
   "source": [
    "#Crank- Nicolson solution to heat equation\n",
    "k=5 \n",
    "t0=0\n",
    "dt=0.01\n",
    "x0=0.0\n",
    "xf=1\n",
    "B=1.\n",
    "\n",
    "Nx=20\n",
    "dx=1/float(Nx)\n",
    "\n",
    "x=dx*np.arange(100)\n",
    "Rpsi=np.zeros(100)\n",
    "\n",
    "\n",
    "def init(x,B,x0,dt):\n",
    "    return B*np.exp(-(k*x))*np.sin(dt) #Why on earth did I think this would work this is just a simple solution to the equation... i am an idiot\n",
    "\n",
    "Rpsi=init(x,B,x0,dt)\n",
    "\n",
    "plt.plot(x,Rpsi)\n"
   ]
  },
  {
   "cell_type": "code",
   "execution_count": 10,
   "metadata": {},
   "outputs": [
    {
     "ename": "SyntaxError",
     "evalue": "invalid syntax (<ipython-input-10-c7c7a831a8e4>, line 17)",
     "output_type": "error",
     "traceback": [
      "\u001b[1;36m  File \u001b[1;32m\"<ipython-input-10-c7c7a831a8e4>\"\u001b[1;36m, line \u001b[1;32m17\u001b[0m\n\u001b[1;33m    (T[x[0],t[1]]-T[x[0],t[0]])/dt=(k/2*dx**2)((T[x[1],t[1]]-2*T[x[0],t[1]]+T[x[-1],t[1]])+(T[x[1],t[0]]-2T[x[0],t[0]]+T[x[-1],t[0]]))\u001b[0m\n\u001b[1;37m                                                                                                          ^\u001b[0m\n\u001b[1;31mSyntaxError\u001b[0m\u001b[1;31m:\u001b[0m invalid syntax\n"
     ]
    }
   ],
   "source": [
    "M=20\n",
    "k=2\n",
    "T_0=10\n",
    "x_0=0\n",
    "x_m=x_0+M\n",
    "t_0=0\n",
    "t_f=t_0+M\n",
    "dx=1/float(M)\n",
    "dt=(t_f-t_0)/M\n",
    "x=dx*np.arange(M)\n",
    "t=dt*np.arange(M)\n",
    "T=np.zeros(M+1)\n",
    "\n",
    "def crank(T,x,t,dx,dt):\n",
    "    T[x_0,t[1]]=T_0\n",
    "    T[x_m,t[1]]=T_0\n",
    "    (T[x[0],t[1]]-T[x[0],t[0]])/dt=(k/2*dx**2)((T[x[1],t[1]]-2*T[x[0],t[1]]+T[x[-1],t[1]])+(T[x[1],t[0]]-2T[x[0],t[0]]+T[x[-1],t[0]]))\n",
    "    return T[x[1],t[1]], t[1], x[1]\n",
    "    \n"
   ]
  },
  {
   "cell_type": "code",
   "execution_count": 30,
   "metadata": {},
   "outputs": [
    {
     "ename": "SyntaxError",
     "evalue": "unexpected EOF while parsing (<ipython-input-30-3c93e928eef8>, line 22)",
     "output_type": "error",
     "traceback": [
      "\u001b[1;36m  File \u001b[1;32m\"<ipython-input-30-3c93e928eef8>\"\u001b[1;36m, line \u001b[1;32m22\u001b[0m\n\u001b[1;33m    \u001b[0m\n\u001b[1;37m    ^\u001b[0m\n\u001b[1;31mSyntaxError\u001b[0m\u001b[1;31m:\u001b[0m unexpected EOF while parsing\n"
     ]
    }
   ],
   "source": [
    "L=20\n",
    "t0=0\n",
    "tmax=L\n",
    "x0=0\n",
    "xmax=L\n",
    "isteps=20\n",
    "nsteps=20\n",
    "dt=tmax/nsteps\n",
    "dx=xmax/isteps\n",
    "k=L**2/tmax\n",
    "sigma=L/4\n",
    "x=np.zeros(isteps)\n",
    "t=np.zeros(nsteps)\n",
    "\n",
    "\n",
    "def T(x,t0):\n",
    "    T=np.exp((-1/2)*(x**2)/(sigma)**2)\n",
    "    return T\n",
    "T=np.zeros(nsteps)\n",
    "\n",
    "#def CrankNicolson(T,t,x,dt,dx):#NEED TO FINISH WRITING THIS\n",
    "    "
   ]
  },
  {
   "cell_type": "code",
   "execution_count": null,
   "metadata": {},
   "outputs": [],
   "source": []
  }
 ],
 "metadata": {
  "kernelspec": {
   "display_name": "Python 3",
   "language": "python",
   "name": "python3"
  },
  "language_info": {
   "codemirror_mode": {
    "name": "ipython",
    "version": 3
   },
   "file_extension": ".py",
   "mimetype": "text/x-python",
   "name": "python",
   "nbconvert_exporter": "python",
   "pygments_lexer": "ipython3",
   "version": "3.7.4"
  }
 },
 "nbformat": 4,
 "nbformat_minor": 2
}
