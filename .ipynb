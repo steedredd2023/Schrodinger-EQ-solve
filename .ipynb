{
 "cells": [
  {
   "cell_type": "code",
   "execution_count": 2,
   "metadata": {},
   "outputs": [],
   "source": [
    "import numpy as np\n",
    "import matplotlib.pyplot as plt\n",
    "import math\n",
    "import scipy.integrate as si"
   ]
  },
  {
   "cell_type": "code",
   "execution_count": 4,
   "metadata": {},
   "outputs": [],
   "source": [
    "#this is my attempt at crank with the 1D heat equation\n",
    "L=20\n",
    "t0=0\n",
    "tmax=L\n",
    "x0=0\n",
    "xmax=L\n",
    "isteps=20\n",
    "nsteps=20\n",
    "dt=tmax/nsteps\n",
    "dx=xmax/isteps\n",
    "k=L**2/tmax\n",
    "sigma=L/4\n",
    "x=np.zeros(isteps)\n",
    "t=np.zeros(nsteps)\n",
    "\n",
    "def T(x,t0):\n",
    "    T=np.exp((-1/2)*(x**2)/(sigma)**2)\n",
    "    return T\n",
    "\n",
    "T=np.zeros(isteps)\n",
    "\n",
    "def CrankNicolson(T,t,x,dt,dx):#NEED TO FINISH WRITING THIS\n",
    "    xi1=xi+dx\n",
    "    tn1=tn+dt\n",
    "    r=(k*dt)/(2*(dx)**2)\n",
    "    Tn=r*T[xi1]+(1-2*r)*T[xi]+r*T[xi-dx]\n",
    "    Tn=-r*Tn1[xi1]+(1+2*r)*Tn1[xi]-r*Tn1[xi-dx]\n",
    "    Tn=np.matrix([1,Tn])\n",
    "    return Tn, tn1, xi"
   ]
  },
  {
   "cell_type": "code",
   "execution_count": 23,
   "metadata": {},
   "outputs": [
    {
     "name": "stdout",
     "output_type": "stream",
     "text": [
      "[[2 3 0]\n",
      " [1 2 3]\n",
      " [0 1 2]]\n"
     ]
    }
   ],
   "source": [
    "#this is me figuring out how to make a matrix...\n",
    "nsteps=5\n",
    "A=np.zeros((nsteps,nsteps))\n",
    "A[0:3]=[2]*1\n",
    "\n",
    "#print(A)\n",
    "\n",
    "a=np.array([1,2,3,4])\n",
    "b=np.diag(a)\n",
    "\n",
    "#print(b)\n",
    "a=np.zeros(nsteps-1)\n",
    "b=np.zeros(nsteps)\n",
    "c=np.zeros(nsteps-1)\n",
    "\n",
    "def tridiag(a, b, c, k1=-1, k2=0, k3=1):\n",
    "    return np.diag(a, k1) + np.diag(b, k2) + np.diag(c, k3)\n",
    "\n",
    "a =; b = [2, 2, 2]; c = [3, 3]\n",
    "A = tridiag(a, b, c)\n",
    "\n",
    "print(A)\n"
   ]
  },
  {
   "cell_type": "code",
   "execution_count": null,
   "metadata": {},
   "outputs": [],
   "source": []
  }
 ],
 "metadata": {
  "kernelspec": {
   "display_name": "Python 3",
   "language": "python",
   "name": "python3"
  },
  "language_info": {
   "codemirror_mode": {
    "name": "ipython",
    "version": 3
   },
   "file_extension": ".py",
   "mimetype": "text/x-python",
   "name": "python",
   "nbconvert_exporter": "python",
   "pygments_lexer": "ipython3",
   "version": "3.7.4"
  }
 },
 "nbformat": 4,
 "nbformat_minor": 2
}
