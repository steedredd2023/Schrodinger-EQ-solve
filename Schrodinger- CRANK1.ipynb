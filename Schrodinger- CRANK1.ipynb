{
 "cells": [
  {
   "cell_type": "code",
   "execution_count": 26,
   "metadata": {},
   "outputs": [],
   "source": [
    "import numpy as np\n",
    "import matplotlib.pyplot as plt\n",
    "import math\n",
    "import scipy.integrate as si\n",
    "import numpy.linalg as npla"
   ]
  },
  {
   "cell_type": "code",
   "execution_count": 33,
   "metadata": {},
   "outputs": [
    {
     "data": {
      "image/png": "[encoded data removed]",
      "text/plain": [
       "<Figure size 432x288 with 1 Axes>"
      ]
     },
     "metadata": {
      "needs_background": "light"
     },
     "output_type": "display_data"
    }
   ],
   "source": [
    "#this is my attempt at crank with the 1D heat equation\n",
    "\n",
    "#\n",
    "L=20\n",
    "t0=0\n",
    "tmax=L\n",
    "x0=0\n",
    "xmax=L\n",
    "isteps=20\n",
    "nsteps=20\n",
    "dt=tmax/nsteps\n",
    "dx=xmax/isteps\n",
    "k=L**2/tmax\n",
    "sigma=L/4\n",
    "r=(k*dt)/(2*(dx)**2)\n",
    "a=-r\n",
    "b=(1+2*r)\n",
    "c=-r\n",
    "x=np.zeros(isteps)\n",
    "t=np.zeros(nsteps)\n",
    "\n",
    "#tridiagonal matrix\n",
    "def tridiag(A, B, C, k1=-1, k2=0, k3=1):\n",
    "    return np.diag(A, k1) + np.diag(B, k2) + np.diag(C, k3)\n",
    "#put in for loop \n",
    "#A =[a]*(nsteps-1); B = [b]*(nsteps); C = [c]*(nsteps-1)\n",
    "#d = tridiag(A, B, C)\n",
    "\n",
    "      \n",
    "def T(x,t0):\n",
    "    T=np.exp((-1/2)*(x**2)/(sigma)**2)\n",
    "    return T\n",
    "\n",
    "T=np.zeros(isteps)\n",
    "\n",
    "def CrankNicolson(T,t,x,dt,dx):#NEED TO FINISH WRITING THIS put in the inverse matrix\n",
    "    xi1=xi+dx\n",
    "    tn1=tn+dt\n",
    "    r=(k*dt)/(2*(dx)**2)\n",
    "    Tn=r*T[xi1]+(1-2*r)*T[xi]+r*T[xi-dx]\n",
    "    #inverse matrix goes here of all i\n",
    "    Tn=-r*Tn1[xi1]+(1+2*r)*Tn1[xi]-r*Tn1[xi-dx]\n",
    "    return Tn, tn1, xi\n",
    "\n",
    "for n in range(nsteps):\n",
    "    #run crank for all t and plot for each\n",
    "    \n",
    "\n",
    "plt.plot(T,x)\n",
    "plt.show()"
   ]
  },
  {
   "cell_type": "code",
   "execution_count": 28,
   "metadata": {},
   "outputs": [
    {
     "name": "stdout",
     "output_type": "stream",
     "text": [
      "[[2 3 0]\n",
      " [1 2 3]\n",
      " [0 1 2]]\n",
      "[[-0.25  1.5  -2.25]\n",
      " [ 0.5  -1.    1.5 ]\n",
      " [-0.25  0.5  -0.25]]\n"
     ]
    }
   ],
   "source": [
    "#this is me figuring out how to make a matrix...\n",
    "nsteps=3\n",
    "A=np.zeros((nsteps,nsteps))\n",
    "A[0:3]=[2]*1\n",
    "\n",
    "#print(A)\n",
    "\n",
    "a=np.array([1,2,3,4])\n",
    "b=np.diag(a)\n",
    "\n",
    "#print(b)\n",
    "a=1\n",
    "b=2\n",
    "c=3\n",
    "\n",
    "def tridiag(A, B, C, k1=-1, k2=0, k3=1):\n",
    "    return np.diag(A, k1) + np.diag(B, k2) + np.diag(C, k3)\n",
    "\n",
    "A =[a]*(nsteps-1); B = [b]*(nsteps); C = [c]*(nsteps-1)\n",
    "d = tridiag(A, B, C)\n",
    "\n",
    "print(d)\n",
    "\n",
    "D=npla.inv(d)\n",
    "print(D)"
   ]
  },
  {
   "cell_type": "code",
   "execution_count": null,
   "metadata": {},
   "outputs": [],
   "source": []
  }
 ],
 "metadata": {
  "kernelspec": {
   "display_name": "Python 3",
   "language": "python",
   "name": "python3"
  },
  "language_info": {
   "codemirror_mode": {
    "name": "ipython",
    "version": 3
   },
   "file_extension": ".py",
   "mimetype": "text/x-python",
   "name": "python",
   "nbconvert_exporter": "python",
   "pygments_lexer": "ipython3",
   "version": "3.7.4"
  }
 },
 "nbformat": 4,
 "nbformat_minor": 2
}
