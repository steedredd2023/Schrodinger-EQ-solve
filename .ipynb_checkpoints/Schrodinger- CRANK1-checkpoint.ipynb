{
 "cells": [
  {
   "cell_type": "code",
   "execution_count": 19,
   "metadata": {},
   "outputs": [],
   "source": [
    "import numpy as np\n",
    "import matplotlib.pyplot as plt\n",
    "import math\n",
    "import scipy.integrate as si\n",
    "import numpy.linalg as npla"
   ]
  },
  {
   "cell_type": "code",
   "execution_count": 20,
   "metadata": {},
   "outputs": [
    {
     "ename": "NameError",
     "evalue": "name 'Ti' is not defined",
     "output_type": "error",
     "traceback": [
      "\u001b[1;31m---------------------------------------------------------------------------\u001b[0m",
      "\u001b[1;31mNameError\u001b[0m                                 Traceback (most recent call last)",
      "\u001b[1;32m<ipython-input-20-712b7d071fb5>\u001b[0m in \u001b[0;36m<module>\u001b[1;34m\u001b[0m\n\u001b[0;32m     54\u001b[0m \u001b[1;33m\u001b[0m\u001b[0m\n\u001b[0;32m     55\u001b[0m \u001b[1;32mfor\u001b[0m \u001b[0mn\u001b[0m \u001b[1;32min\u001b[0m \u001b[0mrange\u001b[0m\u001b[1;33m(\u001b[0m\u001b[0mnsteps\u001b[0m\u001b[1;33m)\u001b[0m\u001b[1;33m:\u001b[0m\u001b[1;31m#run crank for all t and plot for each\u001b[0m\u001b[1;33m\u001b[0m\u001b[1;33m\u001b[0m\u001b[0m\n\u001b[1;32m---> 56\u001b[1;33m     \u001b[0mTi\u001b[0m\u001b[1;33m,\u001b[0m\u001b[0mT_t\u001b[0m\u001b[1;33m,\u001b[0m \u001b[0mtn\u001b[0m\u001b[1;33m=\u001b[0m \u001b[0mCrankNicolson\u001b[0m\u001b[1;33m(\u001b[0m\u001b[0mTi\u001b[0m\u001b[1;33m,\u001b[0m\u001b[0mT_t\u001b[0m\u001b[1;33m,\u001b[0m\u001b[0mtn\u001b[0m\u001b[1;33m,\u001b[0m\u001b[0mxi\u001b[0m\u001b[1;33m)\u001b[0m\u001b[1;33m\u001b[0m\u001b[1;33m\u001b[0m\u001b[0m\n\u001b[0m\u001b[0;32m     57\u001b[0m     \u001b[0mt\u001b[0m\u001b[1;33m[\u001b[0m\u001b[0mn\u001b[0m\u001b[1;33m+\u001b[0m\u001b[1;36m1\u001b[0m\u001b[1;33m]\u001b[0m\u001b[1;33m=\u001b[0m\u001b[0mtn\u001b[0m\u001b[1;33m\u001b[0m\u001b[1;33m\u001b[0m\u001b[0m\n\u001b[0;32m     58\u001b[0m     \u001b[0mT\u001b[0m\u001b[1;33m[\u001b[0m\u001b[0mi\u001b[0m\u001b[1;33m+\u001b[0m\u001b[1;36m1\u001b[0m\u001b[1;33m]\u001b[0m\u001b[1;33m=\u001b[0m\u001b[0mTi\u001b[0m\u001b[1;31m#doesnt make sense\u001b[0m\u001b[1;33m\u001b[0m\u001b[1;33m\u001b[0m\u001b[0m\n",
      "\u001b[1;31mNameError\u001b[0m: name 'Ti' is not defined"
     ]
    }
   ],
   "source": [
    "#this is my attempt at crank with the 1D heat equation\n",
    "\n",
    "#variables\n",
    "L=20\n",
    "t0=0\n",
    "tmax=L\n",
    "x0=0\n",
    "xmax=L\n",
    "isteps=20\n",
    "nsteps=20\n",
    "dt=tmax/nsteps\n",
    "dx=xmax/isteps\n",
    "k=L**2/tmax\n",
    "sigma=L/4\n",
    "r=(k*dt)/(2*(dx)**2)\n",
    "a=-r\n",
    "b=(1+2*r)\n",
    "c=-r\n",
    "x=np.zeros(isteps)\n",
    "t=np.zeros(nsteps)\n",
    "T=np.zeros(isteps)\n",
    "T_t=[]\n",
    "\n",
    "#T for t=0\n",
    "def T(x,t0):\n",
    "    xi1=xi+dt\n",
    "    Ti=np.exp((-1/2)*(xi**2)/(sigma)**2)\n",
    "    Ti1=np.exp((-1/2)*(xi1**2)/(sigma)**2)\n",
    "    return Ti1,xi1\n",
    "\n",
    "def CrankNicolson(Ti,T_t,tn,xi):#NEED TO FINISH WRITING THIS put in the inverse matrix\n",
    "    xi1=xi+dx\n",
    "    tn1=tn+dt\n",
    "    r=(k*dt)/(2*(dx)**2)\n",
    "    a=-r\n",
    "    b=(1+2*r)\n",
    "    c=-r\n",
    "    for i in range(isteps):\n",
    "        t0=t0\n",
    "        xi, t0= T(xi,t0)\n",
    "        x[i+1]=xi\n",
    "        T[i+1]=Ti\n",
    "    Ti=r*T[i+1]+(1-2*r)*T[i]+r*T[i-1]    \n",
    "    D=np.matrix[Ti]\n",
    "    def tridiag(A, B, C, k1=-1, k2=0, k3=1):#tridiagonal matrix\n",
    "        return np.diag(A, k1) + np.diag(B, k2) + np.diag(C, k3)\n",
    "    A =[a]*(isteps-1); B = [b]*(isteps); C = [c]*(isteps-1)\n",
    "    d = tridiag(A, B, C)\n",
    "    I=npla.inv(d)#inverse matrix\n",
    "    Ti1=np.zeros((isteps,1))\n",
    "    Ti1=I*D#solve for T\n",
    "    T_t=-r*Ti1[i+1]+(1+2*r)*Ti1[i]-r*Ti1[i-1]#calc T for next time step\n",
    "    return Ti1,T_t, tn1, xi1\n",
    "\n",
    "for n in range(nsteps):#run crank for all t and plot for each\n",
    "    Ti,T_t, tn= CrankNicolson(Ti,T_t,tn,xi)\n",
    "    t[n+1]=tn \n",
    "    T[i+1]=Ti#doesnt make sense\n",
    "    T[0]=0#boundary conditions?\n",
    "    T[L]=0\n",
    "    T_t.append(T.copy())\n",
    "    plt.plot(T,x)\n",
    "    \n",
    "plt.show()"
   ]
  },
  {
   "cell_type": "code",
   "execution_count": 21,
   "metadata": {},
   "outputs": [
    {
     "name": "stdout",
     "output_type": "stream",
     "text": [
      "[[2.]\n",
      " [2.]\n",
      " [2.]]\n"
     ]
    }
   ],
   "source": [
    "#this is me figuring out how to make a matrix...\n",
    "nsteps=3\n",
    "A=np.zeros((nsteps,1))\n",
    "A[0:3]=[2]*1\n",
    "\n",
    "print(A)\n",
    "\n",
    "a=np.array([1,2,3,4])\n",
    "b=np.diag(a)\n",
    "\n",
    "#print(b)\n",
    "a=1\n",
    "b=2\n",
    "c=3\n",
    "\n",
    "def tridiag(A, B, C, k1=-1, k2=0, k3=1):\n",
    "    return np.diag(A, k1) + np.diag(B, k2) + np.diag(C, k3)\n",
    "\n",
    "A =[a]*(nsteps-1); B = [b]*(nsteps); C = [c]*(nsteps-1)\n",
    "d = tridiag(A, B, C)\n",
    "\n",
    "#print(d)\n",
    "\n",
    "D=npla.inv(d)\n",
    "#print(D)"
   ]
  },
  {
   "cell_type": "code",
   "execution_count": 31,
   "metadata": {},
   "outputs": [
    {
     "name": "stdout",
     "output_type": "stream",
     "text": [
      "[ 0. 20.]\n"
     ]
    },
    {
     "ename": "NameError",
     "evalue": "name 'xi' is not defined",
     "output_type": "error",
     "traceback": [
      "\u001b[1;31m---------------------------------------------------------------------------\u001b[0m",
      "\u001b[1;31mNameError\u001b[0m                                 Traceback (most recent call last)",
      "\u001b[1;32m<ipython-input-31-d8984e699bd8>\u001b[0m in \u001b[0;36m<module>\u001b[1;34m\u001b[0m\n\u001b[0;32m     25\u001b[0m \u001b[1;33m\u001b[0m\u001b[0m\n\u001b[0;32m     26\u001b[0m \u001b[1;32mfor\u001b[0m \u001b[0mi\u001b[0m \u001b[1;32min\u001b[0m \u001b[0mrange\u001b[0m\u001b[1;33m(\u001b[0m\u001b[0misteps\u001b[0m\u001b[1;33m)\u001b[0m\u001b[1;33m:\u001b[0m\u001b[1;33m\u001b[0m\u001b[1;33m\u001b[0m\u001b[0m\n\u001b[1;32m---> 27\u001b[1;33m         \u001b[0mxi\u001b[0m\u001b[1;33m=\u001b[0m\u001b[0mT\u001b[0m\u001b[1;33m(\u001b[0m\u001b[0mxi\u001b[0m\u001b[1;33m)\u001b[0m\u001b[1;33m\u001b[0m\u001b[1;33m\u001b[0m\u001b[0m\n\u001b[0m\u001b[0;32m     28\u001b[0m         \u001b[0mx\u001b[0m\u001b[1;33m[\u001b[0m\u001b[0mi\u001b[0m\u001b[1;33m+\u001b[0m\u001b[1;36m1\u001b[0m\u001b[1;33m]\u001b[0m\u001b[1;33m=\u001b[0m\u001b[0mxi\u001b[0m\u001b[1;33m\u001b[0m\u001b[1;33m\u001b[0m\u001b[0m\n\u001b[0;32m     29\u001b[0m         \u001b[0mT\u001b[0m\u001b[1;33m[\u001b[0m\u001b[0mi\u001b[0m\u001b[1;33m+\u001b[0m\u001b[1;36m1\u001b[0m\u001b[1;33m]\u001b[0m\u001b[1;33m=\u001b[0m\u001b[0mTi\u001b[0m\u001b[1;33m\u001b[0m\u001b[1;33m\u001b[0m\u001b[0m\n",
      "\u001b[1;31mNameError\u001b[0m: name 'xi' is not defined"
     ]
    }
   ],
   "source": [
    "#this is my 2nd attempt at crank with the 1D heat equation\n",
    "\n",
    "#variables\n",
    "L=20\n",
    "t0=0\n",
    "tmax=L\n",
    "x0=0\n",
    "xmax=L\n",
    "isteps=20\n",
    "nsteps=20\n",
    "dt=tmax/nsteps\n",
    "dx=xmax/isteps\n",
    "k=L**2/tmax\n",
    "r=(k*dt)/(2*(dx)**2)\n",
    "sigma=L/4\n",
    "x=np.array((x0+i*dx,isteps))\n",
    "t=np.zeros(nsteps)\n",
    "T=np.zeros(isteps)\n",
    "\n",
    "print(x)\n",
    "#T for t=0\n",
    "def T(x):\n",
    "    Ti=np.exp((-1/2)*(xi**2)/(sigma)**2)\n",
    "    return T\n",
    "\n",
    "for i in range(isteps):\n",
    "        xi=T(xi)\n",
    "        x[i+1]=xi\n",
    "        T[i+1]=Ti\n",
    "print(Ti)\n",
    "\n",
    "def CrankNicolson(Ti):#NEED TO FINISH WRITING THIS put in the inverse matrix\n",
    "    a=-r\n",
    "    b=(1+2*r)\n",
    "    c=-r\n",
    "    for i in range(isteps):\n",
    "        t0=t0\n",
    "        xi=T(xi)\n",
    "        x[i+1]=xi\n",
    "        T[i+1]=Ti\n",
    "    Ti=r*T[i+1]+(1-2*r)*T[i]+r*T[i-1]    \n",
    "    D=np.matrix[Ti]\n",
    "    def tridiag(A, B, C, k1=-1, k2=0, k3=1):#tridiagonal matrix\n",
    "        return np.diag(A, k1) + np.diag(B, k2) + np.diag(C, k3)\n",
    "    A =[a]*(isteps-1); B = [b]*(isteps); C = [c]*(isteps-1)\n",
    "    d = tridiag(A, B, C)\n",
    "    I=npla.inv(d)#inverse matrix\n",
    "    Ti1=I*D\n",
    "    return Ti1\n",
    "print(Ti1)\n",
    "#for n in range(nsteps):#run crank for all t and plot for each\n",
    " #   Ti,T_t, tn= CrankNicolson(Ti,T_t,tn,xi)\n",
    " #   t[n+1]=tn \n",
    "  #  T[i+1]=Ti#doesnt make sense\n",
    "   # T[0]=0#boundary conditions?\n",
    "    #T[L]=0\n",
    "   # T_t.append(T.copy())\n",
    "    #plt.plot(T,x)\n",
    "    \n",
    "#plt.show()"
   ]
  },
  {
   "cell_type": "code",
   "execution_count": null,
   "metadata": {},
   "outputs": [],
   "source": []
  }
 ],
 "metadata": {
  "kernelspec": {
   "display_name": "Python 3",
   "language": "python",
   "name": "python3"
  },
  "language_info": {
   "codemirror_mode": {
    "name": "ipython",
    "version": 3
   },
   "file_extension": ".py",
   "mimetype": "text/x-python",
   "name": "python",
   "nbconvert_exporter": "python",
   "pygments_lexer": "ipython3",
   "version": "3.7.4"
  }
 },
 "nbformat": 4,
 "nbformat_minor": 2
}
